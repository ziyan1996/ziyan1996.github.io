{
 "cells": [
  {
   "cell_type": "code",
   "execution_count": null,
   "metadata": {},
   "outputs": [],
   "source": [
    "#Set directory \n",
    "import os\n",
    "os.chdir(r'C:\\Users\\your working folder') \n",
    "\n",
    "#import premade function\n",
    "import MSE_ML_functionMod1\n",
    "gf = MSE_ML_functionMod1.Vectorize_Formula()\n",
    "\n",
    "#import general python package/ read in compounds list\n",
    "import pandas as pd \n",
    "df = pd.read_excel('your compound list.xlsx')   \n",
    "df.head()\n",
    "df.dtypes"
   ]
  },
  {
   "cell_type": "code",
   "execution_count": null,
   "metadata": {},
   "outputs": [],
   "source": [
    "elem_dic=pd.read_excel(r'elementsnew.xlsx')"
   ]
  },
  {
   "cell_type": "code",
   "execution_count": null,
   "metadata": {},
   "outputs": [],
   "source": [
    "# empty list for storage of features\n",
    "features=[]\n",
    "\n",
    "# empty list for storage of property values\n",
    "targets=[]\n",
    "\n",
    "# add values to list using for loop\n",
    "for formula, target in zip(df['composition'], df['hardness']):\n",
    "    features.append(gf.get_features(formula))\n",
    "    targets.append(target)\n",
    "\n",
    "# feature vectors and targets as X and y \n",
    "X = pd.DataFrame(features, columns = gf.column_names)\n",
    "y = pd.Series(targets)\n",
    "pd.set_option('display.max_columns', None)\n",
    "X"
   ]
  },
  {
   "cell_type": "code",
   "execution_count": null,
   "metadata": {},
   "outputs": [],
   "source": [
    "# drop elements that aren't included in the elemental properties list. \n",
    "# These will be returned as feature rows completely full of NaN values. \n",
    "X.dropna(inplace=True, how='all')\n",
    "y=y.loc[X.index]\n",
    "\n",
    "# reset dataframe indices to simplify code later.\n",
    "X.reset_index(drop=True, inplace=True)\n",
    "y.reset_index(drop=True, inplace=True)"
   ]
  },
  {
   "cell_type": "code",
   "execution_count": null,
   "metadata": {},
   "outputs": [],
   "source": [
    "# collect column names\n",
    "cols = X.columns.values\n",
    "\n",
    "# find the median value of each column\n",
    "median_values = X[cols].median()\n",
    "\n",
    "# fill missing values in each column with columns mean value\n",
    "X[cols]=X[cols].fillna(median_values.iloc[0])\n",
    "X"
   ]
  },
  {
   "cell_type": "code",
   "execution_count": null,
   "metadata": {},
   "outputs": [],
   "source": [
    "# allows for the export of data to excel file\n",
    "writer = pd.ExcelWriter('your_descriptor.xlsx')\n",
    "writer.book.use_zip64()\n",
    "X.to_excel(writer,'Sheet1')\n",
    "writer.save()"
   ]
  }
 ],
 "metadata": {
  "kernelspec": {
   "display_name": "Python 3",
   "language": "python",
   "name": "python3"
  },
  "language_info": {
   "codemirror_mode": {
    "name": "ipython",
    "version": 3
   },
   "file_extension": ".py",
   "mimetype": "text/x-python",
   "name": "python",
   "nbconvert_exporter": "python",
   "pygments_lexer": "ipython3",
   "version": "3.7.0"
  }
 },
 "nbformat": 4,
 "nbformat_minor": 2
}
